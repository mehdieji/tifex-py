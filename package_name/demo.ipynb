{
 "cells": [
  {
   "cell_type": "markdown",
   "metadata": {},
   "source": [
    "# How to Use Feature Extraction Toolbox"
   ]
  },
  {
   "cell_type": "code",
   "execution_count": 4,
   "metadata": {},
   "outputs": [],
   "source": [
    "import pandas as pd\n",
    "\n",
    "from package_name.feature_extraction import settings, extraction"
   ]
  },
  {
   "cell_type": "code",
   "execution_count": 5,
   "metadata": {},
   "outputs": [],
   "source": [
    "# Load dataset\n",
    "filename = \"/home/scai9/feature_dataset/USCHAD_data.csv\"\n",
    "dataset = pd.read_csv(filename)\n",
    "\n",
    "# Get subset of dataset to use for testing\n",
    "dataset = dataset.loc[dataset[\"subject\"]==1]"
   ]
  },
  {
   "cell_type": "markdown",
   "metadata": {},
   "source": [
    "### Parameter Settings for Feature Extraction\n",
    "\n",
    "There are three categories of features: Statistical, Spectral, and Time Frequency. Each have a class holding parameters required for feature calculation. A given configuration can be saved in either a json or yaml format."
   ]
  },
  {
   "cell_type": "code",
   "execution_count": 3,
   "metadata": {},
   "outputs": [],
   "source": [
    "# Initialization of the feature extraction parameters\n",
    "statistical_params = settings.StatisticalFeatureParams(25)\n",
    "spectral_params = settings.SpectralFeatureParams(25)\n",
    "time_freq_params = settings.TimeFrequencyFeatureParams(25)\n",
    "\n",
    "# Save and load the parameters\n",
    "statistical_params.to_json(\"statistical_params.json\")\n",
    "statistical_params_2 = settings.StatisticalFeatureParams.from_json(\"statistical_params.json\")\n",
    "\n",
    "assert statistical_params.get_settings_as_dict() == statistical_params_2.get_settings_as_dict()"
   ]
  },
  {
   "cell_type": "markdown",
   "metadata": {},
   "source": [
    "### Data Format for Feature Calculators\n",
    "\n",
    "The individual statistial feature calculator functions support univariate series inputs. See example below."
   ]
  },
  {
   "cell_type": "code",
   "execution_count": 2,
   "metadata": {},
   "outputs": [
    {
     "ename": "NameError",
     "evalue": "name 'dataset' is not defined",
     "output_type": "error",
     "traceback": [
      "\u001b[0;31m---------------------------------------------------------------------------\u001b[0m",
      "\u001b[0;31mNameError\u001b[0m                                 Traceback (most recent call last)",
      "Cell \u001b[0;32mIn[2], line 3\u001b[0m\n\u001b[1;32m      1\u001b[0m \u001b[38;5;28;01mfrom\u001b[39;00m \u001b[38;5;21;01mpackage_name\u001b[39;00m\u001b[38;5;21;01m.\u001b[39;00m\u001b[38;5;21;01mfeature_extraction\u001b[39;00m\u001b[38;5;21;01m.\u001b[39;00m\u001b[38;5;21;01mstatistical_feature_calculators\u001b[39;00m \u001b[38;5;28;01mimport\u001b[39;00m calculate_area_under_squared_curve\n\u001b[0;32m----> 3\u001b[0m area \u001b[38;5;241m=\u001b[39m calculate_area_under_squared_curve(\u001b[43mdataset\u001b[49m[\u001b[38;5;124m\"\u001b[39m\u001b[38;5;124maccx\u001b[39m\u001b[38;5;124m\"\u001b[39m]\u001b[38;5;241m.\u001b[39mvalues)\n\u001b[1;32m      4\u001b[0m \u001b[38;5;28mprint\u001b[39m(\u001b[38;5;124mf\u001b[39m\u001b[38;5;124m\"\u001b[39m\u001b[38;5;124mArea Under Squared Curve: \u001b[39m\u001b[38;5;132;01m{\u001b[39;00marea\u001b[38;5;132;01m}\u001b[39;00m\u001b[38;5;124m\"\u001b[39m)\n",
      "\u001b[0;31mNameError\u001b[0m: name 'dataset' is not defined"
     ]
    }
   ],
   "source": [
    "from package_name.feature_extraction.statistical_feature_calculators import calculate_area_under_squared_curve\n",
    "\n",
    "area = calculate_area_under_squared_curve(dataset[\"accx\"].values)\n",
    "print(f\"Area Under Squared Curve: {area}\")"
   ]
  },
  {
   "cell_type": "markdown",
   "metadata": {},
   "source": [
    "### Using Feature Extraction Functions\n",
    "\n",
    "In `package_name.feature_extraction.extraction` there are functions to extract features from each subcategory: Statistical, Spectral, and Time-Frequency. There is also a fucntion available to extraction features from all three categories. The `signal_name` parameter specifies a name for the dataset to be prepended to all sub-signal names in the resultant dataframe. `njobs` also specifies the number of cores to use. A basic example of each is shown below.\n"
   ]
  },
  {
   "cell_type": "code",
   "execution_count": 5,
   "metadata": {},
   "outputs": [
    {
     "name": "stdout",
     "output_type": "stream",
     "text": [
      "Error calculating feature(s) sample_entropy: Unable to allocate 34.1 GiB for an array with shape (39074, 39074, 3) and data type float64\n",
      "Feature(s) sample_entropy will be excluded.\n",
      "Error calculating feature(s) approximate_entropy: Unable to allocate 22.8 GiB for an array with shape (39075, 39075, 2) and data type float64\n",
      "Feature(s) approximate_entropy will be excluded.\n"
     ]
    },
    {
     "name": "stderr",
     "output_type": "stream",
     "text": [
      "/home/scai9/proj-adl-classification/package_name/feature_extraction/statistical_feature_calculators.py:2481: FutureWarning: Unlike other reduction functions (e.g. `skew`, `kurtosis`), the default behavior of `mode` typically preserves the axis it acts along. In SciPy 1.11.0, this behavior will change: the default value of `keepdims` will become False, the `axis` over which the statistic is taken will be eliminated, and the value None will no longer be accepted. Set `keepdims` to True or False to avoid this warning.\n",
      "  return mode(signal)[0][0]\n"
     ]
    },
    {
     "name": "stdout",
     "output_type": "stream",
     "text": [
      "Error calculating feature(s) sample_entropy: Unable to allocate 34.1 GiB for an array with shape (39074, 39074, 3) and data type float64\n",
      "Feature(s) sample_entropy will be excluded.\n",
      "Error calculating feature(s) approximate_entropy: Unable to allocate 22.8 GiB for an array with shape (39075, 39075, 2) and data type float64\n",
      "Feature(s) approximate_entropy will be excluded.\n"
     ]
    },
    {
     "name": "stderr",
     "output_type": "stream",
     "text": [
      "/home/scai9/proj-adl-classification/package_name/feature_extraction/statistical_feature_calculators.py:2481: FutureWarning: Unlike other reduction functions (e.g. `skew`, `kurtosis`), the default behavior of `mode` typically preserves the axis it acts along. In SciPy 1.11.0, this behavior will change: the default value of `keepdims` will become False, the `axis` over which the statistic is taken will be eliminated, and the value None will no longer be accepted. Set `keepdims` to True or False to avoid this warning.\n",
      "  return mode(signal)[0][0]\n"
     ]
    },
    {
     "name": "stdout",
     "output_type": "stream",
     "text": [
      "Error calculating feature(s) sample_entropy: Unable to allocate 34.1 GiB for an array with shape (39074, 39074, 3) and data type float64\n",
      "Feature(s) sample_entropy will be excluded.\n",
      "Error calculating feature(s) approximate_entropy: Unable to allocate 22.8 GiB for an array with shape (39075, 39075, 2) and data type float64\n",
      "Feature(s) approximate_entropy will be excluded.\n"
     ]
    },
    {
     "name": "stderr",
     "output_type": "stream",
     "text": [
      "/home/scai9/proj-adl-classification/package_name/feature_extraction/statistical_feature_calculators.py:2481: FutureWarning: Unlike other reduction functions (e.g. `skew`, `kurtosis`), the default behavior of `mode` typically preserves the axis it acts along. In SciPy 1.11.0, this behavior will change: the default value of `keepdims` will become False, the `axis` over which the statistic is taken will be eliminated, and the value None will no longer be accepted. Set `keepdims` to True or False to avoid this warning.\n",
      "  return mode(signal)[0][0]\n"
     ]
    },
    {
     "name": "stdout",
     "output_type": "stream",
     "text": [
      "               mean  geometric_mean  harmonic_mean  trimmed_mean_0.1  \\\n",
      "test_accx  0.742372        0.907159       0.702253          0.790657   \n",
      "test_accy  0.188140        0.250165       0.106604          0.211222   \n",
      "test_accz -0.158577        0.099436       0.027122         -0.152811   \n",
      "\n",
      "           trimmed_mean_0.15  trimmed_mean_0.2  trimmed_mean_0.25  \\\n",
      "test_accx           0.847635          0.863518           0.872033   \n",
      "test_accy           0.213097          0.212477           0.210095   \n",
      "test_accz          -0.148787         -0.144394          -0.141309   \n",
      "\n",
      "           trimmed_mean_0.3  mean_of_abs  geometric_mean_of_abs  ...  \\\n",
      "test_accx          0.879215     0.936795               0.852483  ...   \n",
      "test_accy          0.211006     0.311715               0.205384  ...   \n",
      "test_accz         -0.142072     0.241382               0.162420  ...   \n",
      "\n",
      "           hurst_exponent  adf_teststats  adf_pvalue  adf_usedlag  \\\n",
      "test_accx        0.803642      -2.638544    0.085290         54.0   \n",
      "test_accy        0.933237      -4.737202    0.000072         54.0   \n",
      "test_accz        0.870860      -3.673118    0.004508         53.0   \n",
      "\n",
      "           has_duplicates  max_has_duplicates  min_has_duplicates  large_std  \\\n",
      "test_accx            True               False               False      False   \n",
      "test_accy            True               False               False      False   \n",
      "test_accz            True               False               False      False   \n",
      "\n",
      "           lempel_ziv_complexity      cid_ce  \n",
      "test_accx               0.076134  133.676732  \n",
      "test_accy               0.068687  196.787852  \n",
      "test_accz               0.097784  200.735675  \n",
      "\n",
      "[3 rows x 149 columns]\n"
     ]
    }
   ],
   "source": [
    "# Calculate statistical features\n",
    "features = extraction.calculate_statistical_features(dataset, statistical_params, columns=[\"accx\", \"accy\", \"accz\"], signal_name=\"test\", njobs=1)\n",
    "\n",
    "print(features.head())"
   ]
  },
  {
   "cell_type": "code",
   "execution_count": 6,
   "metadata": {},
   "outputs": [
    {
     "name": "stderr",
     "output_type": "stream",
     "text": [
      "/home/scai9/proj-adl-classification/package_name/feature_extraction/spectral_feature_calculators.py:1539: FutureWarning: Unlike other reduction functions (e.g. `skew`, `kurtosis`), the default behavior of `mode` typically preserves the axis it acts along. In SciPy 1.11.0, this behavior will change: the default value of `keepdims` will become False, the `axis` over which the statistic is taken will be eliminated, and the value None will no longer be accepted. Set `keepdims` to True or False to avoid this warning.\n",
      "  valley_width_mode = mode(valley_widths)[0]\n"
     ]
    },
    {
     "name": "stdout",
     "output_type": "stream",
     "text": [
      "           spectral_centroid_order_1  spectral_centroid_order_2  \\\n",
      "test_accx                   5.141873                  38.604725   \n",
      "test_accy                   5.759207                  46.973967   \n",
      "test_accz                   5.790333                  46.604544   \n",
      "\n",
      "           spectral_centroid_order_3  spectral_centroid_order_4  \\\n",
      "test_accx                 341.026915                3300.370039   \n",
      "test_accy                 436.952883                4359.183368   \n",
      "test_accz                 425.692532                4166.225257   \n",
      "\n",
      "           spectral_centroid_order_5  spectral_variance  spectral_skewness  \\\n",
      "test_accx               33736.373902          12.165865           0.410417   \n",
      "test_accy               45381.461031          13.805503           0.144313   \n",
      "test_accz               42583.239419          13.076591           0.093072   \n",
      "\n",
      "           spectral_kurtosis  median_frequency  spectral_flatness  ...  \\\n",
      "test_accx           2.116443          3.906250           0.703348  ...   \n",
      "test_accy           1.789479          4.980469           0.788680  ...   \n",
      "test_accz           1.810430          5.371094           0.790859  ...   \n",
      "\n",
      "           spectral_valley_width_std  spectral_subdominant_valley  \\\n",
      "test_accx                   1.277557                   460.592732   \n",
      "test_accy                   1.155574                  1055.960403   \n",
      "test_accz                   1.177119                   323.447883   \n",
      "\n",
      "           spectral_valley_count  spectral_peak_broadness  \\\n",
      "test_accx                   6283                 3.108087   \n",
      "test_accy                   6670                 2.929214   \n",
      "test_accz                   6462                 3.023684   \n",
      "\n",
      "           spectral_valley_broadness  spectral_range  spectral_trimmed_mean  \\\n",
      "test_accx                   3.108405            12.5               6.586059   \n",
      "test_accy                   2.929075            12.5               6.395146   \n",
      "test_accz                   3.023526            12.5               6.360421   \n",
      "\n",
      "           harmonic_product_spectrum    smoothness      roughness  \n",
      "test_accx               7.100717e+17  4.649315e+08  571628.112834  \n",
      "test_accy               2.940695e+15  3.591439e+07  426309.816860  \n",
      "test_accz               1.489817e+15  2.458991e+07  340996.930034  \n",
      "\n",
      "[3 rows x 82 columns]\n"
     ]
    }
   ],
   "source": [
    "# Calculate spectral features\n",
    "features = extraction.calculate_spectral_features(dataset, spectral_params, columns=[\"accx\", \"accy\", \"accz\"], signal_name=\"test\", njobs=1)\n",
    "\n",
    "print(features.head())"
   ]
  },
  {
   "cell_type": "code",
   "execution_count": 7,
   "metadata": {},
   "outputs": [
    {
     "name": "stderr",
     "output_type": "stream",
     "text": [
      "/home/scai9/proj-adl-classification/package_name/feature_extraction/statistical_feature_calculators.py:2417: RuntimeWarning: divide by zero encountered in divide\n",
      "  return np.mean(np.abs(np.diff(signal) / signal[:-1]))\n",
      "/home/scai9/proj-adl-classification/package_name/feature_extraction/statistical_feature_calculators.py:2417: RuntimeWarning: invalid value encountered in divide\n",
      "  return np.mean(np.abs(np.diff(signal) / signal[:-1]))\n",
      "/home/scai9/proj-adl-classification/package_name/feature_extraction/statistical_feature_calculators.py:2481: FutureWarning: Unlike other reduction functions (e.g. `skew`, `kurtosis`), the default behavior of `mode` typically preserves the axis it acts along. In SciPy 1.11.0, this behavior will change: the default value of `keepdims` will become False, the `axis` over which the statistic is taken will be eliminated, and the value None will no longer be accepted. Set `keepdims` to True or False to avoid this warning.\n",
      "  return mode(signal)[0][0]\n",
      "/home/scai9/.local/lib/python3.8/site-packages/numpy/lib/function_base.py:518: RuntimeWarning: Mean of empty slice.\n",
      "  avg = a.mean(axis, **keepdims_kw)\n",
      "/home/scai9/.local/lib/python3.8/site-packages/numpy/core/_methods.py:192: RuntimeWarning: invalid value encountered in scalar divide\n",
      "  ret = ret.dtype.type(ret / rcount)\n",
      "/home/scai9/proj-adl-classification/package_name/feature_extraction/statistical_feature_calculators.py:2481: FutureWarning: Unlike other reduction functions (e.g. `skew`, `kurtosis`), the default behavior of `mode` typically preserves the axis it acts along. In SciPy 1.11.0, this behavior will change: the default value of `keepdims` will become False, the `axis` over which the statistic is taken will be eliminated, and the value None will no longer be accepted. Set `keepdims` to True or False to avoid this warning.\n",
      "  return mode(signal)[0][0]\n",
      "/home/scai9/proj-adl-classification/package_name/feature_extraction/statistical_feature_calculators.py:2481: FutureWarning: Unlike other reduction functions (e.g. `skew`, `kurtosis`), the default behavior of `mode` typically preserves the axis it acts along. In SciPy 1.11.0, this behavior will change: the default value of `keepdims` will become False, the `axis` over which the statistic is taken will be eliminated, and the value None will no longer be accepted. Set `keepdims` to True or False to avoid this warning.\n",
      "  return mode(signal)[0][0]\n",
      "/home/scai9/proj-adl-classification/package_name/feature_extraction/statistical_feature_calculators.py:2417: RuntimeWarning: divide by zero encountered in divide\n",
      "  return np.mean(np.abs(np.diff(signal) / signal[:-1]))\n",
      "/home/scai9/proj-adl-classification/package_name/feature_extraction/statistical_feature_calculators.py:2481: FutureWarning: Unlike other reduction functions (e.g. `skew`, `kurtosis`), the default behavior of `mode` typically preserves the axis it acts along. In SciPy 1.11.0, this behavior will change: the default value of `keepdims` will become False, the `axis` over which the statistic is taken will be eliminated, and the value None will no longer be accepted. Set `keepdims` to True or False to avoid this warning.\n",
      "  return mode(signal)[0][0]\n",
      "/home/scai9/proj-adl-classification/package_name/feature_extraction/statistical_feature_calculators.py:2481: FutureWarning: Unlike other reduction functions (e.g. `skew`, `kurtosis`), the default behavior of `mode` typically preserves the axis it acts along. In SciPy 1.11.0, this behavior will change: the default value of `keepdims` will become False, the `axis` over which the statistic is taken will be eliminated, and the value None will no longer be accepted. Set `keepdims` to True or False to avoid this warning.\n",
      "  return mode(signal)[0][0]\n",
      "/home/scai9/proj-adl-classification/package_name/feature_extraction/statistical_feature_calculators.py:2417: RuntimeWarning: divide by zero encountered in divide\n",
      "  return np.mean(np.abs(np.diff(signal) / signal[:-1]))\n",
      "/home/scai9/proj-adl-classification/package_name/feature_extraction/statistical_feature_calculators.py:2417: RuntimeWarning: invalid value encountered in divide\n",
      "  return np.mean(np.abs(np.diff(signal) / signal[:-1]))\n",
      "/home/scai9/proj-adl-classification/package_name/feature_extraction/statistical_feature_calculators.py:2481: FutureWarning: Unlike other reduction functions (e.g. `skew`, `kurtosis`), the default behavior of `mode` typically preserves the axis it acts along. In SciPy 1.11.0, this behavior will change: the default value of `keepdims` will become False, the `axis` over which the statistic is taken will be eliminated, and the value None will no longer be accepted. Set `keepdims` to True or False to avoid this warning.\n",
      "  return mode(signal)[0][0]\n",
      "/home/scai9/proj-adl-classification/package_name/feature_extraction/statistical_feature_calculators.py:2481: FutureWarning: Unlike other reduction functions (e.g. `skew`, `kurtosis`), the default behavior of `mode` typically preserves the axis it acts along. In SciPy 1.11.0, this behavior will change: the default value of `keepdims` will become False, the `axis` over which the statistic is taken will be eliminated, and the value None will no longer be accepted. Set `keepdims` to True or False to avoid this warning.\n",
      "  return mode(signal)[0][0]\n",
      "/home/scai9/proj-adl-classification/package_name/feature_extraction/statistical_feature_calculators.py:2481: FutureWarning: Unlike other reduction functions (e.g. `skew`, `kurtosis`), the default behavior of `mode` typically preserves the axis it acts along. In SciPy 1.11.0, this behavior will change: the default value of `keepdims` will become False, the `axis` over which the statistic is taken will be eliminated, and the value None will no longer be accepted. Set `keepdims` to True or False to avoid this warning.\n",
      "  return mode(signal)[0][0]\n",
      "/home/scai9/proj-adl-classification/package_name/feature_extraction/statistical_feature_calculators.py:2417: RuntimeWarning: divide by zero encountered in divide\n",
      "  return np.mean(np.abs(np.diff(signal) / signal[:-1]))\n",
      "/home/scai9/proj-adl-classification/package_name/feature_extraction/statistical_feature_calculators.py:2417: RuntimeWarning: invalid value encountered in divide\n",
      "  return np.mean(np.abs(np.diff(signal) / signal[:-1]))\n",
      "/home/scai9/proj-adl-classification/package_name/feature_extraction/statistical_feature_calculators.py:2481: FutureWarning: Unlike other reduction functions (e.g. `skew`, `kurtosis`), the default behavior of `mode` typically preserves the axis it acts along. In SciPy 1.11.0, this behavior will change: the default value of `keepdims` will become False, the `axis` over which the statistic is taken will be eliminated, and the value None will no longer be accepted. Set `keepdims` to True or False to avoid this warning.\n",
      "  return mode(signal)[0][0]\n",
      "/home/scai9/proj-adl-classification/package_name/feature_extraction/statistical_feature_calculators.py:2417: RuntimeWarning: divide by zero encountered in divide\n",
      "  return np.mean(np.abs(np.diff(signal) / signal[:-1]))\n",
      "/home/scai9/proj-adl-classification/package_name/feature_extraction/statistical_feature_calculators.py:2481: FutureWarning: Unlike other reduction functions (e.g. `skew`, `kurtosis`), the default behavior of `mode` typically preserves the axis it acts along. In SciPy 1.11.0, this behavior will change: the default value of `keepdims` will become False, the `axis` over which the statistic is taken will be eliminated, and the value None will no longer be accepted. Set `keepdims` to True or False to avoid this warning.\n",
      "  return mode(signal)[0][0]\n",
      "/home/scai9/proj-adl-classification/package_name/feature_extraction/statistical_feature_calculators.py:2417: RuntimeWarning: divide by zero encountered in divide\n",
      "  return np.mean(np.abs(np.diff(signal) / signal[:-1]))\n",
      "/home/scai9/proj-adl-classification/package_name/feature_extraction/statistical_feature_calculators.py:2417: RuntimeWarning: invalid value encountered in divide\n",
      "  return np.mean(np.abs(np.diff(signal) / signal[:-1]))\n",
      "/home/scai9/proj-adl-classification/package_name/feature_extraction/statistical_feature_calculators.py:2481: FutureWarning: Unlike other reduction functions (e.g. `skew`, `kurtosis`), the default behavior of `mode` typically preserves the axis it acts along. In SciPy 1.11.0, this behavior will change: the default value of `keepdims` will become False, the `axis` over which the statistic is taken will be eliminated, and the value None will no longer be accepted. Set `keepdims` to True or False to avoid this warning.\n",
      "  return mode(signal)[0][0]\n",
      "/home/scai9/.local/lib/python3.8/site-packages/numpy/lib/function_base.py:518: RuntimeWarning: Mean of empty slice.\n",
      "  avg = a.mean(axis, **keepdims_kw)\n",
      "/home/scai9/.local/lib/python3.8/site-packages/numpy/core/_methods.py:192: RuntimeWarning: invalid value encountered in scalar divide\n",
      "  ret = ret.dtype.type(ret / rcount)\n",
      "/home/scai9/proj-adl-classification/package_name/feature_extraction/statistical_feature_calculators.py:2481: FutureWarning: Unlike other reduction functions (e.g. `skew`, `kurtosis`), the default behavior of `mode` typically preserves the axis it acts along. In SciPy 1.11.0, this behavior will change: the default value of `keepdims` will become False, the `axis` over which the statistic is taken will be eliminated, and the value None will no longer be accepted. Set `keepdims` to True or False to avoid this warning.\n",
      "  return mode(signal)[0][0]\n",
      "/home/scai9/proj-adl-classification/package_name/feature_extraction/statistical_feature_calculators.py:2481: FutureWarning: Unlike other reduction functions (e.g. `skew`, `kurtosis`), the default behavior of `mode` typically preserves the axis it acts along. In SciPy 1.11.0, this behavior will change: the default value of `keepdims` will become False, the `axis` over which the statistic is taken will be eliminated, and the value None will no longer be accepted. Set `keepdims` to True or False to avoid this warning.\n",
      "  return mode(signal)[0][0]\n",
      "/home/scai9/proj-adl-classification/package_name/feature_extraction/statistical_feature_calculators.py:2417: RuntimeWarning: divide by zero encountered in divide\n",
      "  return np.mean(np.abs(np.diff(signal) / signal[:-1]))\n",
      "/home/scai9/proj-adl-classification/package_name/feature_extraction/statistical_feature_calculators.py:2417: RuntimeWarning: invalid value encountered in divide\n",
      "  return np.mean(np.abs(np.diff(signal) / signal[:-1]))\n",
      "/home/scai9/proj-adl-classification/package_name/feature_extraction/statistical_feature_calculators.py:2481: FutureWarning: Unlike other reduction functions (e.g. `skew`, `kurtosis`), the default behavior of `mode` typically preserves the axis it acts along. In SciPy 1.11.0, this behavior will change: the default value of `keepdims` will become False, the `axis` over which the statistic is taken will be eliminated, and the value None will no longer be accepted. Set `keepdims` to True or False to avoid this warning.\n",
      "  return mode(signal)[0][0]\n",
      "/home/scai9/proj-adl-classification/package_name/feature_extraction/statistical_feature_calculators.py:2417: RuntimeWarning: divide by zero encountered in divide\n",
      "  return np.mean(np.abs(np.diff(signal) / signal[:-1]))\n",
      "/home/scai9/proj-adl-classification/package_name/feature_extraction/statistical_feature_calculators.py:2417: RuntimeWarning: invalid value encountered in divide\n",
      "  return np.mean(np.abs(np.diff(signal) / signal[:-1]))\n",
      "/home/scai9/proj-adl-classification/package_name/feature_extraction/statistical_feature_calculators.py:2481: FutureWarning: Unlike other reduction functions (e.g. `skew`, `kurtosis`), the default behavior of `mode` typically preserves the axis it acts along. In SciPy 1.11.0, this behavior will change: the default value of `keepdims` will become False, the `axis` over which the statistic is taken will be eliminated, and the value None will no longer be accepted. Set `keepdims` to True or False to avoid this warning.\n",
      "  return mode(signal)[0][0]\n"
     ]
    },
    {
     "name": "stdout",
     "output_type": "stream",
     "text": [
      "           tkeo_mean  tkeo_geometric_mean  tkeo_harmonic_mean  \\\n",
      "test_accx  -0.000237             0.001189        1.536900e-14   \n",
      "test_accy  -0.000109             0.000479        7.894626e-15   \n",
      "test_accz  -0.000313             0.000374        6.615248e-15   \n",
      "\n",
      "           tkeo_trimmed_mean_0.1  tkeo_trimmed_mean_0.15  \\\n",
      "test_accx              -0.000003                0.000027   \n",
      "test_accy              -0.000037               -0.000036   \n",
      "test_accz              -0.000003                0.000010   \n",
      "\n",
      "           tkeo_trimmed_mean_0.2  tkeo_trimmed_mean_0.25  \\\n",
      "test_accx               0.000038                0.000048   \n",
      "test_accy              -0.000035               -0.000040   \n",
      "test_accz               0.000016                0.000014   \n",
      "\n",
      "           tkeo_trimmed_mean_0.3  tkeo_mean_of_abs  \\\n",
      "test_accx               0.000051          0.008779   \n",
      "test_accy              -0.000048          0.003708   \n",
      "test_accz               0.000012          0.005751   \n",
      "\n",
      "           tkeo_geometric_mean_of_abs  ...  stft_hurst_exponent  \\\n",
      "test_accx                         0.0  ...             1.635758   \n",
      "test_accy                         0.0  ...             1.601698   \n",
      "test_accz                         0.0  ...             1.591081   \n",
      "\n",
      "           stft_adf_teststats  stft_adf_pvalue  stft_adf_usedlag  \\\n",
      "test_accx           -1.278325         0.639030               8.0   \n",
      "test_accy           -2.131352         0.232096              28.0   \n",
      "test_accz           -1.121439         0.706447              31.0   \n",
      "\n",
      "           stft_has_duplicates  stft_max_has_duplicates  \\\n",
      "test_accx                 True                    False   \n",
      "test_accy                 True                    False   \n",
      "test_accz                 True                    False   \n",
      "\n",
      "           stft_min_has_duplicates  stft_large_std  \\\n",
      "test_accx                    False           False   \n",
      "test_accy                     True           False   \n",
      "test_accz                     True           False   \n",
      "\n",
      "           stft_lempel_ziv_complexity  stft_cid_ce  \n",
      "test_accx                    0.050450     2.706850  \n",
      "test_accy                    0.069680     3.176478  \n",
      "test_accz                    0.061189     3.489573  \n",
      "\n",
      "[3 rows x 604 columns]\n"
     ]
    }
   ],
   "source": [
    "# Calculate time frequency features\n",
    "features = extraction.calculate_time_frequency_features(dataset[0:3000], time_freq_params, columns=[\"accx\", \"accy\", \"accz\"], signal_name=\"test\", njobs=1)\n",
    "\n",
    "print(features.head())"
   ]
  },
  {
   "cell_type": "code",
   "execution_count": null,
   "metadata": {},
   "outputs": [
    {
     "name": "stdout",
     "output_type": "stream",
     "text": [
      "Error calculating feature(s) sample_entropy: Unable to allocate 34.1 GiB for an array with shape (39074, 39074, 3) and data type float64\n",
      "Feature(s) sample_entropy will be excluded.\n",
      "Error calculating feature(s) sample_entropy: Unable to allocate 34.1 GiB for an array with shape (39074, 39074, 3) and data type float64Error calculating feature(s) sample_entropy: Unable to allocate 34.1 GiB for an array with shape (39074, 39074, 3) and data type float64Error calculating feature(s) approximate_entropy: Unable to allocate 22.8 GiB for an array with shape (39075, 39075, 2) and data type float64\n",
      "\n",
      "Feature(s) sample_entropy will be excluded.Feature(s) approximate_entropy will be excluded.\n",
      "\n",
      "\n",
      "Feature(s) sample_entropy will be excluded.\n",
      "Error calculating feature(s) approximate_entropy: Unable to allocate 22.8 GiB for an array with shape (39075, 39075, 2) and data type float64Error calculating feature(s) approximate_entropy: Unable to allocate 22.8 GiB for an array with shape (39075, 39075, 2) and data type float64\n",
      "Feature(s) approximate_entropy will be excluded.\n",
      "Feature(s) approximate_entropy will be excluded.\n",
      "\n"
     ]
    },
    {
     "name": "stderr",
     "output_type": "stream",
     "text": [
      "/home/scai9/proj-adl-classification/package_name/feature_extraction/statistical_feature_calculators.py:2481: FutureWarning: Unlike other reduction functions (e.g. `skew`, `kurtosis`), the default behavior of `mode` typically preserves the axis it acts along. In SciPy 1.11.0, this behavior will change: the default value of `keepdims` will become False, the `axis` over which the statistic is taken will be eliminated, and the value None will no longer be accepted. Set `keepdims` to True or False to avoid this warning.\n",
      "  return mode(signal)[0][0]\n",
      "/home/scai9/proj-adl-classification/package_name/feature_extraction/statistical_feature_calculators.py:2481: FutureWarning: Unlike other reduction functions (e.g. `skew`, `kurtosis`), the default behavior of `mode` typically preserves the axis it acts along. In SciPy 1.11.0, this behavior will change: the default value of `keepdims` will become False, the `axis` over which the statistic is taken will be eliminated, and the value None will no longer be accepted. Set `keepdims` to True or False to avoid this warning.\n",
      "  return mode(signal)[0][0]\n",
      "/home/scai9/proj-adl-classification/package_name/feature_extraction/statistical_feature_calculators.py:2481: FutureWarning: Unlike other reduction functions (e.g. `skew`, `kurtosis`), the default behavior of `mode` typically preserves the axis it acts along. In SciPy 1.11.0, this behavior will change: the default value of `keepdims` will become False, the `axis` over which the statistic is taken will be eliminated, and the value None will no longer be accepted. Set `keepdims` to True or False to avoid this warning.\n",
      "  return mode(signal)[0][0]\n"
     ]
    }
   ],
   "source": [
    "# Calculate all features\n",
    "features = extraction.calculate_all_features(dataset, statistical_params, spectral_params, time_freq_params, columns=[\"accx\", \"accy\", \"accz\"], signal_name=\"test\", njobs=6)\n",
    "\n",
    "print(features.head())"
   ]
  },
  {
   "cell_type": "markdown",
   "metadata": {},
   "source": [
    "Arrays, DataFrames and Series are all acceptable input data formats. If the input is a DataFrame, the columns parameters specifies the columns to analyze (as seen in the previous examples). If not, they are the ordered names of the components of signal. "
   ]
  },
  {
   "cell_type": "code",
   "execution_count": 4,
   "metadata": {},
   "outputs": [
    {
     "name": "stdout",
     "output_type": "stream",
     "text": [
      "Error calculating feature(s) sample_entropy: Unable to allocate 34.1 GiB for an array with shape (39074, 39074, 3) and data type float64\n",
      "Feature(s) sample_entropy will be excluded.\n",
      "Error calculating feature(s) approximate_entropy: Unable to allocate 22.8 GiB for an array with shape (39075, 39075, 2) and data type float64\n",
      "Feature(s) approximate_entropy will be excluded.\n"
     ]
    },
    {
     "name": "stderr",
     "output_type": "stream",
     "text": [
      "/home/scai9/proj-adl-classification/package_name/feature_extraction/statistical_feature_calculators.py:2481: FutureWarning: Unlike other reduction functions (e.g. `skew`, `kurtosis`), the default behavior of `mode` typically preserves the axis it acts along. In SciPy 1.11.0, this behavior will change: the default value of `keepdims` will become False, the `axis` over which the statistic is taken will be eliminated, and the value None will no longer be accepted. Set `keepdims` to True or False to avoid this warning.\n",
      "  return mode(signal)[0][0]\n"
     ]
    },
    {
     "name": "stdout",
     "output_type": "stream",
     "text": [
      "               mean  geometric_mean  harmonic_mean  trimmed_mean_0.1  \\\n",
      "test_accx  0.742372        0.907159       0.702253          0.790657   \n",
      "\n",
      "           trimmed_mean_0.15  trimmed_mean_0.2  trimmed_mean_0.25  \\\n",
      "test_accx           0.847635          0.863518           0.872033   \n",
      "\n",
      "           trimmed_mean_0.3  mean_of_abs  geometric_mean_of_abs  ...  \\\n",
      "test_accx          0.879215     0.936795               0.852483  ...   \n",
      "\n",
      "           hurst_exponent  adf_teststats  adf_pvalue  adf_usedlag  \\\n",
      "test_accx        0.803642      -2.638544     0.08529         54.0   \n",
      "\n",
      "           has_duplicates  max_has_duplicates  min_has_duplicates  large_std  \\\n",
      "test_accx            True               False               False      False   \n",
      "\n",
      "           lempel_ziv_complexity      cid_ce  \n",
      "test_accx               0.076134  133.676732  \n",
      "\n",
      "[1 rows x 149 columns]\n"
     ]
    }
   ],
   "source": [
    "# 2D array input\n",
    "print(dataset[[\"accx\", \"accy\", \"accz\"]].values.shape)\n",
    "features = extraction.calculate_statistical_features(dataset[[\"accx\", \"accy\", \"accz\"]].values, statistical_params, columns=[\"accx\", \"accy\", \"accz\"], signal_name=\"test\", njobs=1)\n",
    "\n",
    "print(features.head())\n",
    "\n",
    "# Series input\n",
    "features = extraction.calculate_statistical_features(dataset[\"accx\"].values, statistical_params, columns=[\"accx\"], signal_name=\"test\", njobs=1)\n",
    "\n",
    "print(features.head())"
   ]
  },
  {
   "cell_type": "markdown",
   "metadata": {},
   "source": [
    "### Extracting a Subset of Features\n",
    "\n",
    "Optionally, a subset of the available features can be selected for extraction through a list of feature names in the parameter classes."
   ]
  },
  {
   "cell_type": "code",
   "execution_count": 8,
   "metadata": {},
   "outputs": [
    {
     "name": "stderr",
     "output_type": "stream",
     "text": [
      "/home/scai9/proj-adl-classification/package_name/feature_extraction/statistical_feature_calculators.py:2481: FutureWarning: Unlike other reduction functions (e.g. `skew`, `kurtosis`), the default behavior of `mode` typically preserves the axis it acts along. In SciPy 1.11.0, this behavior will change: the default value of `keepdims` will become False, the `axis` over which the statistic is taken will be eliminated, and the value None will no longer be accepted. Set `keepdims` to True or False to avoid this warning.\n",
      "  return mode(signal)[0][0]\n"
     ]
    },
    {
     "name": "stderr",
     "output_type": "stream",
     "text": [
      "/home/scai9/proj-adl-classification/package_name/feature_extraction/statistical_feature_calculators.py:2481: FutureWarning: Unlike other reduction functions (e.g. `skew`, `kurtosis`), the default behavior of `mode` typically preserves the axis it acts along. In SciPy 1.11.0, this behavior will change: the default value of `keepdims` will become False, the `axis` over which the statistic is taken will be eliminated, and the value None will no longer be accepted. Set `keepdims` to True or False to avoid this warning.\n",
      "  return mode(signal)[0][0]\n"
     ]
    },
    {
     "name": "stdout",
     "output_type": "stream",
     "text": [
      "               mean       std      mode  spectral_variance  tkeo_mean  \\\n",
      "test_accx  0.742372  0.705045  0.864040          12.165865  -0.200183   \n",
      "test_accy  0.188140  0.342796  0.509207          13.805503  -0.066683   \n",
      "test_accz -0.158577  0.266645  0.125137          13.076591  -0.043469   \n",
      "\n",
      "           tkeo_std  tkeo_mode  \n",
      "test_accx  1.325616        0.0  \n",
      "test_accy  0.307666        0.0  \n",
      "test_accz  0.161682        0.0  \n"
     ]
    }
   ],
   "source": [
    "statistical_params = settings.StatisticalFeatureParams(25, calculators=[\"mean\", \"mode\", \"std\"])\n",
    "spectral_params = settings.SpectralFeatureParams(25, calculators=[\"spectral_variance\"])\n",
    "time_freq_params = settings.TimeFrequencyFeatureParams(25, calculators=[\"tkeo_features\"],tkeo_sf_params=statistical_params)\n",
    "\n",
    "features = extraction.calculate_all_features(dataset, statistical_params, spectral_params, time_freq_params, columns=[\"accx\", \"accy\", \"accz\"], signal_name=\"test\", njobs=1)\n",
    "print(features.head())"
   ]
  },
  {
   "cell_type": "code",
   "execution_count": null,
   "metadata": {},
   "outputs": [],
   "source": []
  }
 ],
 "metadata": {
  "kernelspec": {
   "display_name": "Python 3",
   "language": "python",
   "name": "python3"
  },
  "language_info": {
   "codemirror_mode": {
    "name": "ipython",
    "version": 3
   },
   "file_extension": ".py",
   "mimetype": "text/x-python",
   "name": "python",
   "nbconvert_exporter": "python",
   "pygments_lexer": "ipython3",
   "version": "3.8.10"
  }
 },
 "nbformat": 4,
 "nbformat_minor": 2
}
