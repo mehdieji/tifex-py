{
 "cells": [
  {
   "cell_type": "markdown",
   "metadata": {},
   "source": [
    "# How to Use Feature Extraction Toolbox"
   ]
  },
  {
   "cell_type": "code",
   "execution_count": 1,
   "metadata": {},
   "outputs": [],
   "source": [
    "import pandas as pd\n",
    "\n",
    "from package_name.feature_extraction import settings, extraction"
   ]
  },
  {
   "cell_type": "code",
   "execution_count": 2,
   "metadata": {},
   "outputs": [],
   "source": [
    "# Load dataset\n",
    "filename = \"/home/scai9/feature_dataset/USCHAD_data.csv\"\n",
    "dataset = pd.read_csv(filename)\n",
    "\n",
    "# Get subset of dataset to use for testing\n",
    "dataset = dataset.loc[dataset[\"subject\"]==1][0:5000]"
   ]
  },
  {
   "cell_type": "markdown",
   "metadata": {},
   "source": [
    "### Parameter Settings for Feature Extraction\n",
    "\n",
    "There are three categories of features: Statistical, Spectral, and Time Frequency. Each have a class holding parameters required for feature calculation. A given configuration can be saved in either a json or yaml format."
   ]
  },
  {
   "cell_type": "code",
   "execution_count": 3,
   "metadata": {},
   "outputs": [],
   "source": [
    "# Initialization of the feature extraction parameters\n",
    "statistical_params = settings.StatisticalFeatureParams(25)\n",
    "spectral_params = settings.SpectralFeatureParams(25)\n",
    "time_freq_params = settings.TimeFrequencyFeatureParams(25)\n",
    "\n",
    "# Save and load the parameters\n",
    "statistical_params.to_json(\"statistical_params.json\")\n",
    "statistical_params_2 = settings.StatisticalFeatureParams.from_json(\"statistical_params.json\")\n",
    "\n",
    "assert statistical_params.get_settings_as_dict() == statistical_params_2.get_settings_as_dict()"
   ]
  },
  {
   "cell_type": "markdown",
   "metadata": {},
   "source": [
    "### Data Format for Feature Calculators\n",
    "\n",
    "The individual statistial feature calculator functions support univariate series inputs. See example below."
   ]
  },
  {
   "cell_type": "code",
   "execution_count": 4,
   "metadata": {},
   "outputs": [
    {
     "name": "stdout",
     "output_type": "stream",
     "text": [
      "Area Under Squared Curve: 2488.43278078524\n"
     ]
    }
   ],
   "source": [
    "from package_name.feature_extraction.statistical_feature_calculators import calculate_area_under_squared_curve\n",
    "\n",
    "area = calculate_area_under_squared_curve(dataset[\"accx\"].values)\n",
    "print(f\"Area Under Squared Curve: {area}\")"
   ]
  },
  {
   "cell_type": "markdown",
   "metadata": {},
   "source": [
    "### Using Feature Extraction Functions\n",
    "\n",
    "In `package_name.feature_extraction.extraction` there are functions to extract features from each subcategory: Statistical, Spectral, and Time-Frequency. There is also a fucntion available to extraction features from all three categories. The `signal_name` parameter specifies a name for the dataset to be prepended to all sub-signal names in the resultant dataframe. `njobs` also specifies the number of cores to use. A basic example of each is shown below.\n"
   ]
  },
  {
   "cell_type": "code",
   "execution_count": 5,
   "metadata": {},
   "outputs": [
    {
     "name": "stderr",
     "output_type": "stream",
     "text": [
      "/home/scai9/.local/lib/python3.8/site-packages/numpy/lib/function_base.py:518: RuntimeWarning: Mean of empty slice.\n",
      "  avg = a.mean(axis, **keepdims_kw)\n",
      "/home/scai9/.local/lib/python3.8/site-packages/numpy/core/_methods.py:192: RuntimeWarning: invalid value encountered in scalar divide\n",
      "  ret = ret.dtype.type(ret / rcount)\n"
     ]
    },
    {
     "name": "stdout",
     "output_type": "stream",
     "text": [
      "               mean  geometric_mean  harmonic_mean  trimmed_mean_0.1  \\\n",
      "test_accx -0.704724             NaN            NaN         -0.709874   \n",
      "\n",
      "           trimmed_mean_0.15  trimmed_mean_0.2  trimmed_mean_0.25  \\\n",
      "test_accx          -0.711949         -0.714596          -0.717405   \n",
      "\n",
      "           trimmed_mean_0.3  mean_of_abs  geometric_mean_of_abs  ...  \\\n",
      "test_accx         -0.719037     0.704724               0.703829  ...   \n",
      "\n",
      "           hurst_exponent  adf_teststats  adf_pvalue  adf_usedlag  \\\n",
      "test_accx        1.104163      -3.348753    0.012835         32.0   \n",
      "\n",
      "           has_duplicates  max_has_duplicates  min_has_duplicates  large_std  \\\n",
      "test_accx            True               False               False      False   \n",
      "\n",
      "           lempel_ziv_complexity     cid_ce  \n",
      "test_accx                 0.0598  34.857094  \n",
      "\n",
      "[1 rows x 151 columns]\n"
     ]
    }
   ],
   "source": [
    "# Calculate statistical features\n",
    "features = extraction.calculate_statistical_features(dataset, statistical_params, columns=[\"accx\"], signal_name=\"test\", njobs=1)\n",
    "\n",
    "print(features.head())"
   ]
  },
  {
   "cell_type": "code",
   "execution_count": 6,
   "metadata": {},
   "outputs": [
    {
     "name": "stdout",
     "output_type": "stream",
     "text": [
      "Error calculating feature(s) ['spectral_cumulative_frequency_below_threshold_0.5', 'spectral_cumulative_frequency_below_threshold_0.75']: index -1 is out of bounds for axis 0 with size 0\n",
      "Feature(s) ['spectral_cumulative_frequency_below_threshold_0.5', 'spectral_cumulative_frequency_below_threshold_0.75'] will be excluded.\n"
     ]
    },
    {
     "name": "stderr",
     "output_type": "stream",
     "text": [
      "/home/scai9/proj-adl-classification/package_name/feature_extraction/spectral_feature_calculators.py:1727: FutureWarning: Unlike other reduction functions (e.g. `skew`, `kurtosis`), the default behavior of `mode` typically preserves the axis it acts along. In SciPy 1.11.0, this behavior will change: the default value of `keepdims` will become False, the `axis` over which the statistic is taken will be eliminated, and the value None will no longer be accepted. Set `keepdims` to True or False to avoid this warning.\n",
      "  valley_width_mode = mode(valley_widths)[0]\n"
     ]
    },
    {
     "name": "stdout",
     "output_type": "stream",
     "text": [
      "           spectral_centroid_order_1  spectral_centroid_order_2  \\\n",
      "test_accx                   1.881512                  14.266790   \n",
      "test_accy                   1.079966                   7.049539   \n",
      "test_accz                   1.918049                  13.556253   \n",
      "\n",
      "           spectral_centroid_order_3  spectral_centroid_order_4  \\\n",
      "test_accx                 125.264091                1189.120649   \n",
      "test_accy                  60.098733                 575.726582   \n",
      "test_accz                 114.738415                1064.237861   \n",
      "\n",
      "           spectral_centroid_order_5  spectral_variance  spectral_skewness  \\\n",
      "test_accx               11875.828418          10.726702           1.652527   \n",
      "test_accy                5873.998937           5.883212           2.787550   \n",
      "test_accz               10454.414019           9.877341           1.637948   \n",
      "\n",
      "           spectral_kurtosis  median_frequency  spectral_flatness  ...  \\\n",
      "test_accx           4.448157          0.585938           0.303453  ...   \n",
      "test_accy          10.440244          0.195312           0.197393  ...   \n",
      "test_accz           4.536328          0.195312           0.330137  ...   \n",
      "\n",
      "           spectral_valley_count  spectral_peak_broadness  \\\n",
      "test_accx                    784                 3.185422   \n",
      "test_accy                    791                 3.159494   \n",
      "test_accz                    771                 3.237971   \n",
      "\n",
      "           spectral_valley_broadness  spectral_range  spectral_trimmed_mean  \\\n",
      "test_accx                   3.186462            12.5               6.519935   \n",
      "test_accy                   3.158228            12.5               6.574735   \n",
      "test_accz                   3.238961            12.5               6.497440   \n",
      "\n",
      "           harmonic_product_spectrum    smoothness    roughness  \\\n",
      "test_accx               1.541544e+14  1.194461e+07  4803.530231   \n",
      "test_accy               7.240337e+13  7.808862e+06  4058.054987   \n",
      "test_accz               4.106698e+13  5.821475e+06  3917.772326   \n",
      "\n",
      "           spectral_cumulative_frequency_below_threshold_0.5  \\\n",
      "test_accx                                                NaN   \n",
      "test_accy                                              0.000   \n",
      "test_accz                                              0.025   \n",
      "\n",
      "           spectral_cumulative_frequency_below_threshold_0.75  \n",
      "test_accx                                                NaN   \n",
      "test_accy                                              0.595   \n",
      "test_accz                                              2.830   \n",
      "\n",
      "[3 rows x 84 columns]\n"
     ]
    }
   ],
   "source": [
    "# Calculate spectral features\n",
    "features = extraction.calculate_spectral_features(dataset, spectral_params, columns=[\"accx\", \"accy\", \"accz\"], signal_name=\"test\", njobs=1)\n",
    "\n",
    "print(features.head())"
   ]
  },
  {
   "cell_type": "code",
   "execution_count": 7,
   "metadata": {},
   "outputs": [
    {
     "name": "stderr",
     "output_type": "stream",
     "text": [
      "/home/scai9/.local/lib/python3.8/site-packages/numpy/lib/function_base.py:518: RuntimeWarning: Mean of empty slice.\n",
      "  avg = a.mean(axis, **keepdims_kw)\n",
      "/home/scai9/.local/lib/python3.8/site-packages/numpy/core/_methods.py:192: RuntimeWarning: invalid value encountered in scalar divide\n",
      "  ret = ret.dtype.type(ret / rcount)\n",
      "/home/scai9/.local/lib/python3.8/site-packages/numpy/lib/function_base.py:518: RuntimeWarning: Mean of empty slice.\n",
      "  avg = a.mean(axis, **keepdims_kw)\n",
      "/home/scai9/.local/lib/python3.8/site-packages/numpy/core/_methods.py:192: RuntimeWarning: invalid value encountered in scalar divide\n",
      "  ret = ret.dtype.type(ret / rcount)\n"
     ]
    },
    {
     "name": "stdout",
     "output_type": "stream",
     "text": [
      "           tkeo_mean  tkeo_geometric_mean  tkeo_harmonic_mean  \\\n",
      "test_accx  -0.000237             0.001189        1.536900e-14   \n",
      "test_accy  -0.000109             0.000479        7.894626e-15   \n",
      "test_accz  -0.000313             0.000374        6.615248e-15   \n",
      "\n",
      "           tkeo_trimmed_mean_0.1  tkeo_trimmed_mean_0.15  \\\n",
      "test_accx              -0.000003                0.000027   \n",
      "test_accy              -0.000037               -0.000036   \n",
      "test_accz              -0.000003                0.000010   \n",
      "\n",
      "           tkeo_trimmed_mean_0.2  tkeo_trimmed_mean_0.25  \\\n",
      "test_accx               0.000038                0.000048   \n",
      "test_accy              -0.000035               -0.000040   \n",
      "test_accz               0.000016                0.000014   \n",
      "\n",
      "           tkeo_trimmed_mean_0.3  tkeo_mean_of_abs  \\\n",
      "test_accx               0.000051          0.008779   \n",
      "test_accy              -0.000048          0.003708   \n",
      "test_accz               0.000012          0.005751   \n",
      "\n",
      "           tkeo_geometric_mean_of_abs  ...  stft_hurst_exponent  \\\n",
      "test_accx                         0.0  ...             1.635758   \n",
      "test_accy                         0.0  ...             1.601698   \n",
      "test_accz                         0.0  ...             1.591081   \n",
      "\n",
      "           stft_adf_teststats  stft_adf_pvalue  stft_adf_usedlag  \\\n",
      "test_accx           -1.278325         0.639030               8.0   \n",
      "test_accy           -2.131352         0.232096              28.0   \n",
      "test_accz           -1.121439         0.706447              31.0   \n",
      "\n",
      "           stft_has_duplicates  stft_max_has_duplicates  \\\n",
      "test_accx                 True                    False   \n",
      "test_accy                 True                    False   \n",
      "test_accz                 True                    False   \n",
      "\n",
      "           stft_min_has_duplicates  stft_large_std  \\\n",
      "test_accx                    False           False   \n",
      "test_accy                     True           False   \n",
      "test_accz                     True           False   \n",
      "\n",
      "           stft_lempel_ziv_complexity  stft_cid_ce  \n",
      "test_accx                    0.050450     2.706850  \n",
      "test_accy                    0.069680     3.176478  \n",
      "test_accz                    0.061189     3.489573  \n",
      "\n",
      "[3 rows x 604 columns]\n"
     ]
    }
   ],
   "source": [
    "# Calculate time frequency features\n",
    "features = extraction.calculate_time_frequency_features(dataset[0:3000], time_freq_params, columns=[\"accx\", \"accy\", \"accz\"], signal_name=\"test\", njobs=1)\n",
    "\n",
    "print(features.head())"
   ]
  },
  {
   "cell_type": "code",
   "execution_count": null,
   "metadata": {},
   "outputs": [
    {
     "name": "stderr",
     "output_type": "stream",
     "text": [
      "/home/scai9/.local/lib/python3.8/site-packages/numpy/lib/function_base.py:518: RuntimeWarning: Mean of empty slice.\n",
      "  avg = a.mean(axis, **keepdims_kw)\n",
      "/home/scai9/.local/lib/python3.8/site-packages/numpy/lib/function_base.py:518: RuntimeWarning: Mean of empty slice.\n",
      "  avg = a.mean(axis, **keepdims_kw)\n",
      "/home/scai9/.local/lib/python3.8/site-packages/numpy/core/_methods.py:192: RuntimeWarning: invalid value encountered in scalar divide\n",
      "  ret = ret.dtype.type(ret / rcount)\n",
      "/home/scai9/.local/lib/python3.8/site-packages/numpy/core/_methods.py:192: RuntimeWarning: invalid value encountered in scalar divide\n",
      "  ret = ret.dtype.type(ret / rcount)\n"
     ]
    }
   ],
   "source": [
    "# Calculate all features\n",
    "features = extraction.calculate_all_features(dataset, statistical_params, spectral_params, time_freq_params, columns=[\"accx\", \"accy\", \"accz\"], signal_name=\"test\", njobs=6)\n",
    "\n",
    "print(features.head())"
   ]
  },
  {
   "cell_type": "markdown",
   "metadata": {},
   "source": [
    "Arrays, DataFrames and Series are all acceptable input data formats. If the input is a DataFrame, the columns parameters specifies the columns to analyze (as seen in the previous examples). If not, they are the ordered names of the components of signal. "
   ]
  },
  {
   "cell_type": "code",
   "execution_count": 4,
   "metadata": {},
   "outputs": [
    {
     "name": "stdout",
     "output_type": "stream",
     "text": [
      "Error calculating feature(s) sample_entropy: Unable to allocate 34.1 GiB for an array with shape (39074, 39074, 3) and data type float64\n",
      "Feature(s) sample_entropy will be excluded.\n",
      "Error calculating feature(s) approximate_entropy: Unable to allocate 22.8 GiB for an array with shape (39075, 39075, 2) and data type float64\n",
      "Feature(s) approximate_entropy will be excluded.\n"
     ]
    },
    {
     "name": "stderr",
     "output_type": "stream",
     "text": [
      "/home/scai9/proj-adl-classification/package_name/feature_extraction/statistical_feature_calculators.py:2481: FutureWarning: Unlike other reduction functions (e.g. `skew`, `kurtosis`), the default behavior of `mode` typically preserves the axis it acts along. In SciPy 1.11.0, this behavior will change: the default value of `keepdims` will become False, the `axis` over which the statistic is taken will be eliminated, and the value None will no longer be accepted. Set `keepdims` to True or False to avoid this warning.\n",
      "  return mode(signal)[0][0]\n"
     ]
    },
    {
     "name": "stdout",
     "output_type": "stream",
     "text": [
      "               mean  geometric_mean  harmonic_mean  trimmed_mean_0.1  \\\n",
      "test_accx  0.742372        0.907159       0.702253          0.790657   \n",
      "\n",
      "           trimmed_mean_0.15  trimmed_mean_0.2  trimmed_mean_0.25  \\\n",
      "test_accx           0.847635          0.863518           0.872033   \n",
      "\n",
      "           trimmed_mean_0.3  mean_of_abs  geometric_mean_of_abs  ...  \\\n",
      "test_accx          0.879215     0.936795               0.852483  ...   \n",
      "\n",
      "           hurst_exponent  adf_teststats  adf_pvalue  adf_usedlag  \\\n",
      "test_accx        0.803642      -2.638544     0.08529         54.0   \n",
      "\n",
      "           has_duplicates  max_has_duplicates  min_has_duplicates  large_std  \\\n",
      "test_accx            True               False               False      False   \n",
      "\n",
      "           lempel_ziv_complexity      cid_ce  \n",
      "test_accx               0.076134  133.676732  \n",
      "\n",
      "[1 rows x 149 columns]\n"
     ]
    }
   ],
   "source": [
    "# 2D array input\n",
    "print(dataset[[\"accx\", \"accy\", \"accz\"]].values.shape)\n",
    "features = extraction.calculate_statistical_features(dataset[[\"accx\", \"accy\", \"accz\"]].values, statistical_params, columns=[\"accx\", \"accy\", \"accz\"], signal_name=\"test\", njobs=1)\n",
    "\n",
    "print(features.head())\n",
    "\n",
    "# Series input\n",
    "features = extraction.calculate_statistical_features(dataset[\"accx\"].values, statistical_params, columns=[\"accx\"], signal_name=\"test\", njobs=1)\n",
    "\n",
    "print(features.head())"
   ]
  },
  {
   "cell_type": "markdown",
   "metadata": {},
   "source": [
    "### Extracting a Subset of Features\n",
    "\n",
    "Optionally, a subset of the available features can be selected for extraction through a list of feature names in the parameter classes."
   ]
  },
  {
   "cell_type": "code",
   "execution_count": 3,
   "metadata": {},
   "outputs": [
    {
     "name": "stdout",
     "output_type": "stream",
     "text": [
      "               mean       std      mode  spectral_variance  tkeo_mean  \\\n",
      "test_accx -0.704724  0.033738 -0.725808          10.726702  -0.000193   \n",
      "test_accy  0.583404  0.077468  0.577970           5.883212  -0.000084   \n",
      "test_accz -0.506294  0.062115 -0.486109           9.877341  -0.000220   \n",
      "\n",
      "           tkeo_std  tkeo_mode  \n",
      "test_accx  0.016841        0.0  \n",
      "test_accy  0.007834        0.0  \n",
      "test_accz  0.012551        0.0  \n"
     ]
    }
   ],
   "source": [
    "statistical_params = settings.StatisticalFeatureParams(25, calculators=[\"mean\", \"mode\", \"std\"])\n",
    "spectral_params = settings.SpectralFeatureParams(25, calculators=[\"spectral_variance\"])\n",
    "time_freq_params = settings.TimeFrequencyFeatureParams(25, calculators=[\"tkeo_features\"],tkeo_sf_params=statistical_params)\n",
    "\n",
    "features = extraction.calculate_all_features(dataset, statistical_params, spectral_params, time_freq_params, columns=[\"accx\", \"accy\", \"accz\"], signal_name=\"test\", njobs=1)\n",
    "print(features.head())"
   ]
  },
  {
   "cell_type": "code",
   "execution_count": null,
   "metadata": {},
   "outputs": [],
   "source": []
  }
 ],
 "metadata": {
  "kernelspec": {
   "display_name": "Python 3",
   "language": "python",
   "name": "python3"
  },
  "language_info": {
   "codemirror_mode": {
    "name": "ipython",
    "version": 3
   },
   "file_extension": ".py",
   "mimetype": "text/x-python",
   "name": "python",
   "nbconvert_exporter": "python",
   "pygments_lexer": "ipython3",
   "version": "3.8.10"
  }
 },
 "nbformat": 4,
 "nbformat_minor": 2
}
