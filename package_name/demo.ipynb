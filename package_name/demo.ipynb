{
 "cells": [
  {
   "cell_type": "markdown",
   "metadata": {},
   "source": [
    "# How to Use Feature Extraction Toolbox"
   ]
  },
  {
   "cell_type": "code",
   "execution_count": null,
   "metadata": {},
   "outputs": [],
   "source": [
    "import pandas as pd\n",
    "\n",
    "from package_name.feature_extraction import settings, extraction"
   ]
  },
  {
   "cell_type": "code",
   "execution_count": null,
   "metadata": {},
   "outputs": [],
   "source": [
    "# Load dataset\n",
    "# filename = \"/home/scai9/feature_dataset/USCHAD_data.csv\"\n",
    "filename = \"/home/edumaba/SCAI_lab/proj-adl-classification/Public Dataset/USCHAD_data.csv\"\n",
    "dataset = pd.read_csv(filename)\n",
    "\n",
    "# Get subset of dataset to use for testing\n",
    "dataset = dataset.loc[dataset[\"subject\"]==1]"
   ]
  },
  {
   "cell_type": "markdown",
   "metadata": {},
   "source": [
    "### Parameter Settings for Feature Extraction\n",
    "\n",
    "There are three categories of features: Statistical, Spectral, and Time Frequency. Each have a class holding parameters required for feature calculation. A given configuration can be saved in either a json or yaml format."
   ]
  },
  {
   "cell_type": "code",
   "execution_count": null,
   "metadata": {},
   "outputs": [],
   "source": [
    "# Initialization of the feature extraction parameters\n",
    "statistical_params = settings.StatisticalFeatureParams(25)\n",
    "spectral_params = settings.SpectralFeatureParams(25)\n",
    "time_freq_params = settings.TimeFrequencyFeatureParams(25)\n",
    "\n",
    "# Save and load the parameters\n",
    "statistical_params.to_json(\"statistical_params.json\")\n",
    "statistical_params_2 = settings.StatisticalFeatureParams.from_json(\"statistical_params.json\")\n",
    "\n",
    "assert statistical_params.get_settings_as_dict() == statistical_params_2.get_settings_as_dict()"
   ]
  },
  {
   "cell_type": "markdown",
   "metadata": {},
   "source": [
    "### Data Format for Feature Calculators\n",
    "\n",
    "The individual statistial feature calculator functions support univariate series inputs. See example below."
   ]
  },
  {
   "cell_type": "code",
   "execution_count": null,
   "metadata": {},
   "outputs": [],
   "source": [
    "from package_name.feature_extraction.statistical_feature_calculators import calculate_area_under_squared_curve\n",
    "\n",
    "area = calculate_area_under_squared_curve(dataset[\"accx\"].values)\n",
    "print(f\"Area Under Squared Curve: {area}\")"
   ]
  },
  {
   "cell_type": "markdown",
   "metadata": {},
   "source": [
    "### Using Feature Extraction Functions\n",
    "\n",
    "In `package_name.feature_extraction.extraction` there are functions to extract features from each subcategory: Statistical, Spectral, and Time-Frequency. There is also a fucntion available to extraction features from all three categories. The `signal_name` parameter specifies a name for the dataset to be prepended to all sub-signal names in the resultant dataframe. `njobs` also specifies the number of cores to use. A basic example of each is shown below.\n"
   ]
  },
  {
   "cell_type": "code",
   "execution_count": null,
   "metadata": {},
   "outputs": [],
   "source": [
    "# Calculate statistical features\n",
    "features = extraction.calculate_statistical_features(dataset, statistical_params, columns=[\"accx\", \"accy\", \"accz\"], signal_name=\"test\", njobs=1)\n",
    "\n",
    "print(features.head())"
   ]
  },
  {
   "cell_type": "code",
   "execution_count": null,
   "metadata": {},
   "outputs": [],
   "source": [
    "# Calculate spectral features\n",
    "features = extraction.calculate_spectral_features(dataset, spectral_params, columns=[\"accx\", \"accy\", \"accz\"], signal_name=\"test\", njobs=1)"
   ]
  },
  {
   "cell_type": "code",
   "execution_count": null,
   "metadata": {},
   "outputs": [],
   "source": [
    "pd.set_option('display.max_columns', None)\n",
    "features"
   ]
  },
  {
   "cell_type": "code",
   "execution_count": null,
   "metadata": {},
   "outputs": [],
   "source": [
    "# Calculate time frequency features\n",
    "features = extraction.calculate_time_frequency_features(dataset[0:3000], time_freq_params, columns=[\"accx\", \"accy\", \"accz\"], signal_name=\"test\", njobs=1)"
   ]
  },
  {
   "cell_type": "code",
   "execution_count": null,
   "metadata": {},
   "outputs": [],
   "source": [
    "pd.set_option('display.max_columns', None)\n",
    "features"
   ]
  },
  {
   "cell_type": "code",
   "execution_count": null,
   "metadata": {},
   "outputs": [],
   "source": [
    "# Calculate all features\n",
    "features = extraction.calculate_all_features(dataset, statistical_params, spectral_params, time_freq_params, columns=[\"accx\", \"accy\", \"accz\"], signal_name=\"test\", njobs=6)"
   ]
  },
  {
   "cell_type": "code",
   "execution_count": null,
   "metadata": {},
   "outputs": [],
   "source": [
    "pd.set_option('display.max_columns', None)\n",
    "features"
   ]
  },
  {
   "cell_type": "markdown",
   "metadata": {},
   "source": [
    "Arrays, DataFrames and Series are all acceptable input data formats. If the input is a DataFrame, the columns parameters specifies the columns to analyze (as seen in the previous examples). If not, they are the ordered names of the components of signal. "
   ]
  },
  {
   "cell_type": "code",
   "execution_count": null,
   "metadata": {},
   "outputs": [],
   "source": [
    "# 2D array input\n",
    "print(dataset[[\"accx\", \"accy\", \"accz\"]].values.shape)\n",
    "features = extraction.calculate_statistical_features(dataset[[\"accx\", \"accy\", \"accz\"]].values, statistical_params, columns=[\"accx\", \"accy\", \"accz\"], signal_name=\"test\", njobs=1)\n",
    "\n",
    "print(features.head())\n",
    "\n",
    "# Series input\n",
    "features = extraction.calculate_statistical_features(dataset[\"accx\"].values, statistical_params, columns=[\"accx\"], signal_name=\"test\", njobs=1)\n",
    "\n",
    "print(features.head())"
   ]
  },
  {
   "cell_type": "markdown",
   "metadata": {},
   "source": [
    "### Extracting a Subset of Features\n",
    "\n",
    "Optionally, a subset of the available features can be selected for extraction through a list of feature names in the parameter classes."
   ]
  },
  {
   "cell_type": "code",
   "execution_count": null,
   "metadata": {},
   "outputs": [],
   "source": [
    "statistical_params = settings.StatisticalFeatureParams(25, calculators=[\"mean\", \"mode\", \"std\"])\n",
    "spectral_params = settings.SpectralFeatureParams(25, calculators=[\"spectral_variance\"])\n",
    "time_freq_params = settings.TimeFrequencyFeatureParams(25, calculators=[\"tkeo_features\"],tkeo_sf_params=statistical_params)\n",
    "\n",
    "features = extraction.calculate_all_features(dataset, statistical_params, spectral_params, time_freq_params, columns=[\"accx\", \"accy\", \"accz\"], signal_name=\"test\", njobs=1)\n",
    "print(features.head())"
   ]
  },
  {
   "cell_type": "code",
   "execution_count": null,
   "metadata": {},
   "outputs": [],
   "source": []
  }
 ],
 "metadata": {
  "kernelspec": {
   "display_name": "Python 3",
   "language": "python",
   "name": "python3"
  },
  "language_info": {
   "codemirror_mode": {
    "name": "ipython",
    "version": 3
   },
   "file_extension": ".py",
   "mimetype": "text/x-python",
   "name": "python",
   "nbconvert_exporter": "python",
   "pygments_lexer": "ipython3",
   "version": "3.10.12"
  }
 },
 "nbformat": 4,
 "nbformat_minor": 2
}
